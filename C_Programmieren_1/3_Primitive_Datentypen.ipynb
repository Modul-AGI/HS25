{
  "cells": [
    {
      "cell_type": "markdown",
      "metadata": {},
      "source": [
        "# Primitive Datentypen\n",
        "\n",
        "Bei primitiven Datentypen handelt es sich um die kleinste Einheit der Programmiersprache, sie werden deshalb auch \"atomare Datentypen\" genannt. Alle komplexeren Datentypen (Tabellarische Daten, Bilder, Geodaten) basieren auf diesen einfachen Strukturen. Die für uns wichtigsten Datentypen lauten: *Boolean*, *String*, *Integer* und *Float*. Das sind ähnliche Datentypen wie ihr bereits aus R kennt:\n",
        "\n",
        "| Python | R | Beschreibung | Beispiel | in Python | \n",
        "|:---|:---|:---|:---|:---|\n",
        "| Boolean | Logical | Logische Werte ja / nein | Wahr / Falsch | `regen = True` |\n",
        "| String | Character | Textinformation | Bern, Luzern | `stadt = \"Bern\"` |\n",
        "| Integer | Integer | Zahl ohne Nachkommastelle | Anzahl Einwohner | `bern = 133115` |\n",
        "| Float | Double | Zahl mit Nachkommastelle | Temperatur | `temp = 22.5` |\n",
        "\n",
        "\n",
        ":::{#tip-positron-project .callout-tip}\n",
        "\n",
        "## Positron Projekt erstellen\n",
        "\n",
        "Um die nachfolgenden Codebeispiele selbst ausprobieren zu können, müsst ihr \n",
        "\n",
        "1. *Positron* starten\n",
        "2. In Positron ein neues Projekt erstellen (⨁ New → New Project → Python Project)\n",
        "   - Project Name: *Python_Code* (unser Vorschlag)\n",
        "   - Parent Directory: `Pfad\\zu\\deinem\\Modul-AGI-Kurs\\Programmieren1`\n",
        "3. Python Umgebung auswählen:\n",
        "   - *Use an existing Python installation* auswählen\n",
        "   - Python Interpreter: Hier die Umgebung *geopython1* suchen\n",
        "   - Klick *Create* → Current Window\n",
        "4. File direkt abspeichern: <kbd>Ctrl</kbd> + <kbd>S</kbd> (sinnvollen Namen mit endung `.py` geben)\n",
        "4. Im neuen Textfile Pythoncode schreiben\n",
        "5. Mit <kbd>Ctrl</kbd> + <kbd>Enter</kbd> Pythoncode ausführen\n",
        ":::\n",
        "\n",
        "\n",
        "## Boolean\n",
        "\n",
        "Hierbei handelt es sich um den einfachsten Datentyp. Er beinhaltet nur zwei Zustände: *Wahr* oder *Falsch*. In Python werden diese mit `True` oder `False` definiert (diese Schreibweise muss genau beachtet werden). Beispielsweise sind das Antworten auf geschlossene Fragen.\n"
      ],
      "id": "d5050d81"
    },
    {
      "cell_type": "code",
      "metadata": {},
      "source": [
        "regen = True # \"es regnet\"\n",
        "\n",
        "sonne = False # \"die Sonne scheint nicht\"\n",
        "\n",
        "type(sonne)"
      ],
      "id": "0a962955",
      "execution_count": null,
      "outputs": []
    },
    {
      "cell_type": "markdown",
      "metadata": {},
      "source": [
        "Um zu prüfen, ob ein bestimmter Wert `True` oder `False` ist, verwendet man `is True`. Will man also fragen, ob es regnet, wird dies folgendermassen formuliert:\n"
      ],
      "id": "eb658a62"
    },
    {
      "cell_type": "code",
      "metadata": {},
      "source": [
        "# regnet es?\n",
        "regen is True"
      ],
      "id": "fb9e3859",
      "execution_count": null,
      "outputs": []
    },
    {
      "cell_type": "markdown",
      "metadata": {},
      "source": [
        "Ob die Sonne scheint, lautet folgendermassen (natürlich müssen dazu die Variabel `sonne` bereits existieren):\n"
      ],
      "id": "956c0fde"
    },
    {
      "cell_type": "code",
      "metadata": {},
      "source": [
        "# scheint die Sonne?\n",
        "sonne is True"
      ],
      "id": "85ff6fc8",
      "execution_count": null,
      "outputs": []
    },
    {
      "cell_type": "markdown",
      "metadata": {},
      "source": [
        "## String\n",
        "\n",
        "In sogenannten *Strings* werden Textinformationen gespeichert. Beispielsweise können das die Namen von Ortschaften sein.\n"
      ],
      "id": "8dfb8c14"
    },
    {
      "cell_type": "code",
      "metadata": {},
      "source": [
        "stadt = \"Bern\"\n",
        "land = \"Schweiz\"\n",
        "\n",
        "type(stadt)"
      ],
      "id": "822db14c",
      "execution_count": null,
      "outputs": []
    },
    {
      "cell_type": "markdown",
      "metadata": {},
      "source": [
        "Strings können mit `+` miteinander verbunden werden\n"
      ],
      "id": "6185f99d"
    },
    {
      "cell_type": "code",
      "metadata": {},
      "source": [
        "stadt + \" ist die Hauptstadt der \" + land"
      ],
      "id": "b58a9734",
      "execution_count": null,
      "outputs": []
    },
    {
      "cell_type": "markdown",
      "metadata": {},
      "source": [
        "## Integer\n",
        "\n",
        "In *Integer* werden ganzzahlige Werte gespeichert, beispielsweise die Anzahl Einwohner einer Stadt. \n"
      ],
      "id": "7bc33efc"
    },
    {
      "cell_type": "code",
      "metadata": {},
      "source": [
        "bern_einwohner = 133115\n",
        "\n",
        "type(bern_einwohner)"
      ],
      "id": "5a4d95fe",
      "execution_count": null,
      "outputs": []
    },
    {
      "cell_type": "markdown",
      "metadata": {},
      "source": [
        "## Float\n",
        "\n",
        "Als *Float* werden Zahlen mit Nachkommastellen gespeichert, wie zum Beispiel die Temperatur in Grad Celsius.\n"
      ],
      "id": "e1b0f009"
    },
    {
      "cell_type": "code",
      "metadata": {},
      "source": [
        "bern_flaeche = 51.62\n",
        "\n",
        "type(bern_flaeche)"
      ],
      "id": "0c2cd23f",
      "execution_count": null,
      "outputs": []
    }
  ],
  "metadata": {
    "kernelspec": {
      "display_name": "Python 3",
      "language": "python",
      "name": "python3"
    }
  },
  "nbformat": 4,
  "nbformat_minor": 5
}